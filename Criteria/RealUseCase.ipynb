{
 "cells": [
  {
   "cell_type": "markdown",
   "metadata": {},
   "source": [
    "## Реальный кейс с использованием t-тест для зависимых выборок\n",
    "\n",
    "Я работаю Java-разработчиком в логистической компании в отделе, занимающемся приложениями для банков. Мне приходится решать самые различные проблемы, например, иногда приходится исправлять базу данных заказчиков, не видя её, или исследовать ситуации, когда нагрузка на БД очень большая, не имея к ней доступа.\n",
    "\n",
    "В таких случаях, чаще всего приходится оптимизировать скрипты в коде. Я оптимизирую скрипт и специальными методами анализирую его нагрузку. Когда я вижу, что нагрузка достаточно маленькая, я отправляю её на проверку заказчику. \n",
    "\n",
    "Тестовые базы и базы прода отличаются тем, что в базе прода обычно огромное количество данных, и скрипт может там отработать по-другому. Поэтому в ответ на скрипт, инженеры поддержки банка отправляют мне ответ, помогло ли это базе на проде или нет.\n",
    "\n",
    "Недавно я попробовала метод t-теста для зависимых выборок, чтобы объективно оценить эффективность оптимизации скриптов с помощью статистических методов. \n",
    "\n",
    "В этом примере я сгенерирую времена выполнения скриптов, чтобы не было проблем с импортированием данных.\n",
    "\n",
    "**Рассмотрим его подробнее:**"
   ]
  },
  {
   "cell_type": "markdown",
   "metadata": {},
   "source": [
    "Для начала импортируем нужные библиотеки"
   ]
  },
  {
   "cell_type": "code",
   "execution_count": 743,
   "metadata": {},
   "outputs": [],
   "source": [
    "import numpy as np\n",
    "import matplotlib.pyplot as plt\n",
    "from scipy.stats import rankdata, norm"
   ]
  },
  {
   "cell_type": "markdown",
   "metadata": {},
   "source": [
    "Генерация данных для выборок (время выполнения скрипта до оптимизации и время выполнения после)"
   ]
  },
  {
   "cell_type": "code",
   "execution_count": 744,
   "metadata": {},
   "outputs": [
    {
     "name": "stdout",
     "output_type": "stream",
     "text": [
      "[4.31007569 4.05811118 3.29411581 4.82418857 1.80189806 1.43705684\n",
      " 4.41584787 2.75659927 4.38787542 4.57236082 1.24983037 4.53385905\n",
      " 2.79327622 3.04172996 3.50637004 4.70553043 1.07646438 2.90737387\n",
      " 3.75088817 3.89082783 3.77012973 1.53774052 2.19758235 2.4348621\n",
      " 4.21774883 2.11503949 1.84281986 4.82979208 1.03545314 4.99128342\n",
      " 3.7072852  4.3138772  2.17847759 1.05726111 3.95147807 4.33657839\n",
      " 3.96190453 1.57140115 4.01371169 4.07569113 3.63416206 4.06446373\n",
      " 4.38368576 3.45441646 1.35441886 2.95051124 1.31059734 2.63017212\n",
      " 2.62842596 1.26403938]\n",
      "[3.39528214 2.4439924  5.23294084 5.7907521  2.2892659  5.82046083\n",
      " 4.0903064  3.19826271 2.3074483  4.00249707 5.17806218 4.82834591\n",
      " 2.20090405 2.29160734 3.61149313 3.18116198 2.92953729 3.124018\n",
      " 5.21393097 5.71691221 3.62041078 5.62444401 3.2859828  3.90574795\n",
      " 2.90411599 4.56190417 5.91592446 4.41397238 3.43125634 4.59126978\n",
      " 2.49168271 5.55463632 4.0123358  3.79739897 4.34345915 4.49913545\n",
      " 2.28710322 4.73046888 2.96772672 4.85581053 5.29013918 5.21583403\n",
      " 4.21000387 4.08067957 2.57150385 5.1013846  3.08563752 3.98678169\n",
      " 3.13709637 2.53531345]\n"
     ]
    }
   ],
   "source": [
    "sample1 = np.random.uniform(low=1, high=5, size=50)\n",
    "sample2 = np.random.uniform(low=2, high=6, size=50)\n",
    "print (sample1)\n",
    "print (sample2)"
   ]
  },
  {
   "cell_type": "markdown",
   "metadata": {},
   "source": [
    "Вычисление U-статистики для критерия Манна-Уитни и двустороннего p-значения"
   ]
  },
  {
   "cell_type": "code",
   "execution_count": 745,
   "metadata": {},
   "outputs": [],
   "source": [
    "def mann_whitney_u_test(sample1, sample2):\n",
    "\n",
    "    combined = np.concatenate([sample1, sample2])\n",
    "    n1 = len(sample1)\n",
    "    n2 = len(sample2)\n",
    "    \n",
    "    ranked = rankdata(combined, method='average')\n",
    "    \n",
    "    ranks1 = ranked[:n1]\n",
    "    ranks2 = ranked[n1:]\n",
    "    \n",
    "    u1 = np.sum(ranks1) - (n1 * (n1 + 1)) / 2\n",
    "    u2 = np.sum(ranks2) - (n2 * (n2 + 1)) / 2\n",
    "    \n",
    "    U = min(u1, u2)\n",
    "    \n",
    "    expected_U = n1 * n2 / 2\n",
    "    \n",
    "    std_U = np.sqrt(n1 * n2 * (n1 + n2 + 1) / 12)\n",
    "    \n",
    "    Z = (U - expected_U) / std_U\n",
    "    \n",
    "    p_value = 2 * min(norm.cdf(Z), 1 - norm.cdf(Z))\n",
    "    \n",
    "    return U, p_value"
   ]
  },
  {
   "cell_type": "markdown",
   "metadata": {},
   "source": [
    "Вычисление U-статистики и p-значения"
   ]
  },
  {
   "cell_type": "code",
   "execution_count": 746,
   "metadata": {},
   "outputs": [],
   "source": [
    "U_statistic, p_value = mann_whitney_u_test(sample1, sample2)"
   ]
  },
  {
   "cell_type": "markdown",
   "metadata": {},
   "source": [
    "Построение гистограмм для каждой выборки"
   ]
  },
  {
   "cell_type": "code",
   "execution_count": 747,
   "metadata": {},
   "outputs": [
    {
     "data": {
      "image/png": "[encoded data removed]",
      "text/plain": [
       "<Figure size 1200x600 with 1 Axes>"
      ]
     },
     "metadata": {},
     "output_type": "display_data"
    }
   ],
   "source": [
    "plt.figure(figsize=(12, 6))\n",
    "\n",
    "plt.hist(sample1, bins=20, alpha=0.7, label='Sample 1')\n",
    "plt.hist(sample2, bins=20, alpha=0.7, label='Sample 2')\n",
    "\n",
    "plt.title('Histogram of Samples')\n",
    "plt.xlabel('Value')\n",
    "plt.ylabel('Frequency')\n",
    "plt.legend(loc='upper right')\n",
    "\n",
    "plt.tight_layout()\n",
    "plt.show()"
   ]
  },
  {
   "cell_type": "markdown",
   "metadata": {},
   "source": [
    "Вывод результатов теста"
   ]
  },
  {
   "cell_type": "code",
   "execution_count": 748,
   "metadata": {},
   "outputs": [
    {
     "name": "stdout",
     "output_type": "stream",
     "text": [
      "U-статистика: 826.0000\n",
      "p-значение: 0.003466992000679\n"
     ]
    }
   ],
   "source": [
    "print(f\"U-статистика: {U_statistic:.4f}\")\n",
    "print(f\"p-значение: {p_value:.15f}\")"
   ]
  },
  {
   "cell_type": "markdown",
   "metadata": {},
   "source": [
    "Интерпретация результатов"
   ]
  },
  {
   "cell_type": "code",
   "execution_count": 749,
   "metadata": {},
   "outputs": [
    {
     "name": "stdout",
     "output_type": "stream",
     "text": [
      "Результат статистически значим: выборки имеют статистически значимые различия.\n"
     ]
    }
   ],
   "source": [
    "alpha = 0.05\n",
    "if p_value < alpha:\n",
    "    print(\"Результат статистически значим: выборки имеют статистически значимые различия.\")\n",
    "else:\n",
    "    print(\"Результат не является статистически значимым: нет доказательств статистически значимых различий между выборками.\")"
   ]
  }
 ],
 "metadata": {
  "kernelspec": {
   "display_name": "Python 3",
   "language": "python",
   "name": "python3"
  },
  "language_info": {
   "codemirror_mode": {
    "name": "ipython",
    "version": 3
   },
   "file_extension": ".py",
   "mimetype": "text/x-python",
   "name": "python",
   "nbconvert_exporter": "python",
   "pygments_lexer": "ipython3",
   "version": "3.12.3"
  }
 },
 "nbformat": 4,
 "nbformat_minor": 2
}
